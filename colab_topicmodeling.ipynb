{
  "nbformat": 4,
  "nbformat_minor": 0,
  "metadata": {
    "colab": {
      "name": "colab_topicmodeling.ipynb",
      "provenance": [],
      "collapsed_sections": [],
      "toc_visible": true
    },
    "language_info": {
      "name": "python"
    },
    "kernelspec": {
      "name": "python3",
      "display_name": "Python 3"
    }
  },
  "cells": [
    {
      "cell_type": "markdown",
      "metadata": {
        "id": "Clgok1W6xqx7"
      },
      "source": [
        "# Topic Modeling for Everybody with Google Colab"
      ]
    },
    {
      "cell_type": "markdown",
      "metadata": {
        "id": "Jeqk9Wu2yFmz"
      },
      "source": [
        "**Super simple topic modeling using both the Non Negative Matrix Factorization (NMF) and Latent Dirichlet Allocation (LDA) algorithms.**\n",
        "\n",
        "This Google Colab Notebook makes topic modeling accessible to everybody. Textual data can be loaded from a Google Sheet and topics derived from NMF and LDA can be generated. Only simple form entry is required to set:\n",
        "\n",
        "* the name of the google sheet\n",
        "* the number of topics to be generated\n",
        "* the number of top words and documents that must be printed out for each topic\n",
        "\n",
        "\n",
        "\n"
      ]
    },
    {
      "cell_type": "code",
      "metadata": {
        "colab": {
          "base_uri": "https://localhost:8080/"
        },
        "id": "ZXeSmCDcw0AT",
        "outputId": "7a9f8c11-8fba-419e-b8cd-a2c835cf4916"
      },
      "source": [
        "#@title Install pyLDAVis (specific version for Google Collab)\n",
        "!pip install pyLDAvis==2.1.2"
      ],
      "execution_count": 1,
      "outputs": [
        {
          "output_type": "stream",
          "text": [
            "Collecting pyLDAvis==2.1.2\n",
            "\u001b[?25l  Downloading https://files.pythonhosted.org/packages/a5/3a/af82e070a8a96e13217c8f362f9a73e82d61ac8fff3a2561946a97f96266/pyLDAvis-2.1.2.tar.gz (1.6MB)\n",
            "\r\u001b[K     |▏                               | 10kB 11.9MB/s eta 0:00:01\r\u001b[K     |▍                               | 20kB 15.7MB/s eta 0:00:01\r\u001b[K     |▋                               | 30kB 18.9MB/s eta 0:00:01\r\u001b[K     |▉                               | 40kB 21.0MB/s eta 0:00:01\r\u001b[K     |█                               | 51kB 22.2MB/s eta 0:00:01\r\u001b[K     |█▏                              | 61kB 23.6MB/s eta 0:00:01\r\u001b[K     |█▍                              | 71kB 24.3MB/s eta 0:00:01\r\u001b[K     |█▋                              | 81kB 23.2MB/s eta 0:00:01\r\u001b[K     |█▉                              | 92kB 23.8MB/s eta 0:00:01\r\u001b[K     |██                              | 102kB 24.9MB/s eta 0:00:01\r\u001b[K     |██▎                             | 112kB 24.9MB/s eta 0:00:01\r\u001b[K     |██▍                             | 122kB 24.9MB/s eta 0:00:01\r\u001b[K     |██▋                             | 133kB 24.9MB/s eta 0:00:01\r\u001b[K     |██▉                             | 143kB 24.9MB/s eta 0:00:01\r\u001b[K     |███                             | 153kB 24.9MB/s eta 0:00:01\r\u001b[K     |███▎                            | 163kB 24.9MB/s eta 0:00:01\r\u001b[K     |███▌                            | 174kB 24.9MB/s eta 0:00:01\r\u001b[K     |███▋                            | 184kB 24.9MB/s eta 0:00:01\r\u001b[K     |███▉                            | 194kB 24.9MB/s eta 0:00:01\r\u001b[K     |████                            | 204kB 24.9MB/s eta 0:00:01\r\u001b[K     |████▎                           | 215kB 24.9MB/s eta 0:00:01\r\u001b[K     |████▌                           | 225kB 24.9MB/s eta 0:00:01\r\u001b[K     |████▊                           | 235kB 24.9MB/s eta 0:00:01\r\u001b[K     |████▉                           | 245kB 24.9MB/s eta 0:00:01\r\u001b[K     |█████                           | 256kB 24.9MB/s eta 0:00:01\r\u001b[K     |█████▎                          | 266kB 24.9MB/s eta 0:00:01\r\u001b[K     |█████▌                          | 276kB 24.9MB/s eta 0:00:01\r\u001b[K     |█████▊                          | 286kB 24.9MB/s eta 0:00:01\r\u001b[K     |█████▉                          | 296kB 24.9MB/s eta 0:00:01\r\u001b[K     |██████                          | 307kB 24.9MB/s eta 0:00:01\r\u001b[K     |██████▎                         | 317kB 24.9MB/s eta 0:00:01\r\u001b[K     |██████▌                         | 327kB 24.9MB/s eta 0:00:01\r\u001b[K     |██████▊                         | 337kB 24.9MB/s eta 0:00:01\r\u001b[K     |███████                         | 348kB 24.9MB/s eta 0:00:01\r\u001b[K     |███████                         | 358kB 24.9MB/s eta 0:00:01\r\u001b[K     |███████▎                        | 368kB 24.9MB/s eta 0:00:01\r\u001b[K     |███████▌                        | 378kB 24.9MB/s eta 0:00:01\r\u001b[K     |███████▊                        | 389kB 24.9MB/s eta 0:00:01\r\u001b[K     |████████                        | 399kB 24.9MB/s eta 0:00:01\r\u001b[K     |████████▏                       | 409kB 24.9MB/s eta 0:00:01\r\u001b[K     |████████▎                       | 419kB 24.9MB/s eta 0:00:01\r\u001b[K     |████████▌                       | 430kB 24.9MB/s eta 0:00:01\r\u001b[K     |████████▊                       | 440kB 24.9MB/s eta 0:00:01\r\u001b[K     |█████████                       | 450kB 24.9MB/s eta 0:00:01\r\u001b[K     |█████████▏                      | 460kB 24.9MB/s eta 0:00:01\r\u001b[K     |█████████▍                      | 471kB 24.9MB/s eta 0:00:01\r\u001b[K     |█████████▌                      | 481kB 24.9MB/s eta 0:00:01\r\u001b[K     |█████████▊                      | 491kB 24.9MB/s eta 0:00:01\r\u001b[K     |██████████                      | 501kB 24.9MB/s eta 0:00:01\r\u001b[K     |██████████▏                     | 512kB 24.9MB/s eta 0:00:01\r\u001b[K     |██████████▍                     | 522kB 24.9MB/s eta 0:00:01\r\u001b[K     |██████████▋                     | 532kB 24.9MB/s eta 0:00:01\r\u001b[K     |██████████▊                     | 542kB 24.9MB/s eta 0:00:01\r\u001b[K     |███████████                     | 552kB 24.9MB/s eta 0:00:01\r\u001b[K     |███████████▏                    | 563kB 24.9MB/s eta 0:00:01\r\u001b[K     |███████████▍                    | 573kB 24.9MB/s eta 0:00:01\r\u001b[K     |███████████▋                    | 583kB 24.9MB/s eta 0:00:01\r\u001b[K     |███████████▊                    | 593kB 24.9MB/s eta 0:00:01\r\u001b[K     |████████████                    | 604kB 24.9MB/s eta 0:00:01\r\u001b[K     |████████████▏                   | 614kB 24.9MB/s eta 0:00:01\r\u001b[K     |████████████▍                   | 624kB 24.9MB/s eta 0:00:01\r\u001b[K     |████████████▋                   | 634kB 24.9MB/s eta 0:00:01\r\u001b[K     |████████████▉                   | 645kB 24.9MB/s eta 0:00:01\r\u001b[K     |█████████████                   | 655kB 24.9MB/s eta 0:00:01\r\u001b[K     |█████████████▏                  | 665kB 24.9MB/s eta 0:00:01\r\u001b[K     |█████████████▍                  | 675kB 24.9MB/s eta 0:00:01\r\u001b[K     |█████████████▋                  | 686kB 24.9MB/s eta 0:00:01\r\u001b[K     |█████████████▉                  | 696kB 24.9MB/s eta 0:00:01\r\u001b[K     |██████████████                  | 706kB 24.9MB/s eta 0:00:01\r\u001b[K     |██████████████▏                 | 716kB 24.9MB/s eta 0:00:01\r\u001b[K     |██████████████▍                 | 727kB 24.9MB/s eta 0:00:01\r\u001b[K     |██████████████▋                 | 737kB 24.9MB/s eta 0:00:01\r\u001b[K     |██████████████▉                 | 747kB 24.9MB/s eta 0:00:01\r\u001b[K     |███████████████                 | 757kB 24.9MB/s eta 0:00:01\r\u001b[K     |███████████████▎                | 768kB 24.9MB/s eta 0:00:01\r\u001b[K     |███████████████▍                | 778kB 24.9MB/s eta 0:00:01\r\u001b[K     |███████████████▋                | 788kB 24.9MB/s eta 0:00:01\r\u001b[K     |███████████████▉                | 798kB 24.9MB/s eta 0:00:01\r\u001b[K     |████████████████                | 808kB 24.9MB/s eta 0:00:01\r\u001b[K     |████████████████▎               | 819kB 24.9MB/s eta 0:00:01\r\u001b[K     |████████████████▌               | 829kB 24.9MB/s eta 0:00:01\r\u001b[K     |████████████████▋               | 839kB 24.9MB/s eta 0:00:01\r\u001b[K     |████████████████▉               | 849kB 24.9MB/s eta 0:00:01\r\u001b[K     |█████████████████               | 860kB 24.9MB/s eta 0:00:01\r\u001b[K     |█████████████████▎              | 870kB 24.9MB/s eta 0:00:01\r\u001b[K     |█████████████████▌              | 880kB 24.9MB/s eta 0:00:01\r\u001b[K     |█████████████████▋              | 890kB 24.9MB/s eta 0:00:01\r\u001b[K     |█████████████████▉              | 901kB 24.9MB/s eta 0:00:01\r\u001b[K     |██████████████████              | 911kB 24.9MB/s eta 0:00:01\r\u001b[K     |██████████████████▎             | 921kB 24.9MB/s eta 0:00:01\r\u001b[K     |██████████████████▌             | 931kB 24.9MB/s eta 0:00:01\r\u001b[K     |██████████████████▊             | 942kB 24.9MB/s eta 0:00:01\r\u001b[K     |██████████████████▉             | 952kB 24.9MB/s eta 0:00:01\r\u001b[K     |███████████████████             | 962kB 24.9MB/s eta 0:00:01\r\u001b[K     |███████████████████▎            | 972kB 24.9MB/s eta 0:00:01\r\u001b[K     |███████████████████▌            | 983kB 24.9MB/s eta 0:00:01\r\u001b[K     |███████████████████▊            | 993kB 24.9MB/s eta 0:00:01\r\u001b[K     |████████████████████            | 1.0MB 24.9MB/s eta 0:00:01\r\u001b[K     |████████████████████            | 1.0MB 24.9MB/s eta 0:00:01\r\u001b[K     |████████████████████▎           | 1.0MB 24.9MB/s eta 0:00:01\r\u001b[K     |████████████████████▌           | 1.0MB 24.9MB/s eta 0:00:01\r\u001b[K     |████████████████████▊           | 1.0MB 24.9MB/s eta 0:00:01\r\u001b[K     |█████████████████████           | 1.1MB 24.9MB/s eta 0:00:01\r\u001b[K     |█████████████████████▏          | 1.1MB 24.9MB/s eta 0:00:01\r\u001b[K     |█████████████████████▎          | 1.1MB 24.9MB/s eta 0:00:01\r\u001b[K     |█████████████████████▌          | 1.1MB 24.9MB/s eta 0:00:01\r\u001b[K     |█████████████████████▊          | 1.1MB 24.9MB/s eta 0:00:01\r\u001b[K     |██████████████████████          | 1.1MB 24.9MB/s eta 0:00:01\r\u001b[K     |██████████████████████▏         | 1.1MB 24.9MB/s eta 0:00:01\r\u001b[K     |██████████████████████▍         | 1.1MB 24.9MB/s eta 0:00:01\r\u001b[K     |██████████████████████▌         | 1.1MB 24.9MB/s eta 0:00:01\r\u001b[K     |██████████████████████▊         | 1.1MB 24.9MB/s eta 0:00:01\r\u001b[K     |███████████████████████         | 1.2MB 24.9MB/s eta 0:00:01\r\u001b[K     |███████████████████████▏        | 1.2MB 24.9MB/s eta 0:00:01\r\u001b[K     |███████████████████████▍        | 1.2MB 24.9MB/s eta 0:00:01\r\u001b[K     |███████████████████████▌        | 1.2MB 24.9MB/s eta 0:00:01\r\u001b[K     |███████████████████████▊        | 1.2MB 24.9MB/s eta 0:00:01\r\u001b[K     |████████████████████████        | 1.2MB 24.9MB/s eta 0:00:01\r\u001b[K     |████████████████████████▏       | 1.2MB 24.9MB/s eta 0:00:01\r\u001b[K     |████████████████████████▍       | 1.2MB 24.9MB/s eta 0:00:01\r\u001b[K     |████████████████████████▋       | 1.2MB 24.9MB/s eta 0:00:01\r\u001b[K     |████████████████████████▊       | 1.2MB 24.9MB/s eta 0:00:01\r\u001b[K     |█████████████████████████       | 1.3MB 24.9MB/s eta 0:00:01\r\u001b[K     |█████████████████████████▏      | 1.3MB 24.9MB/s eta 0:00:01\r\u001b[K     |█████████████████████████▍      | 1.3MB 24.9MB/s eta 0:00:01\r\u001b[K     |█████████████████████████▋      | 1.3MB 24.9MB/s eta 0:00:01\r\u001b[K     |█████████████████████████▉      | 1.3MB 24.9MB/s eta 0:00:01\r\u001b[K     |██████████████████████████      | 1.3MB 24.9MB/s eta 0:00:01\r\u001b[K     |██████████████████████████▏     | 1.3MB 24.9MB/s eta 0:00:01\r\u001b[K     |██████████████████████████▍     | 1.3MB 24.9MB/s eta 0:00:01\r\u001b[K     |██████████████████████████▋     | 1.3MB 24.9MB/s eta 0:00:01\r\u001b[K     |██████████████████████████▉     | 1.4MB 24.9MB/s eta 0:00:01\r\u001b[K     |███████████████████████████     | 1.4MB 24.9MB/s eta 0:00:01\r\u001b[K     |███████████████████████████▏    | 1.4MB 24.9MB/s eta 0:00:01\r\u001b[K     |███████████████████████████▍    | 1.4MB 24.9MB/s eta 0:00:01\r\u001b[K     |███████████████████████████▋    | 1.4MB 24.9MB/s eta 0:00:01\r\u001b[K     |███████████████████████████▉    | 1.4MB 24.9MB/s eta 0:00:01\r\u001b[K     |████████████████████████████    | 1.4MB 24.9MB/s eta 0:00:01\r\u001b[K     |████████████████████████████▏   | 1.4MB 24.9MB/s eta 0:00:01\r\u001b[K     |████████████████████████████▍   | 1.4MB 24.9MB/s eta 0:00:01\r\u001b[K     |████████████████████████████▋   | 1.4MB 24.9MB/s eta 0:00:01\r\u001b[K     |████████████████████████████▉   | 1.5MB 24.9MB/s eta 0:00:01\r\u001b[K     |█████████████████████████████   | 1.5MB 24.9MB/s eta 0:00:01\r\u001b[K     |█████████████████████████████▎  | 1.5MB 24.9MB/s eta 0:00:01\r\u001b[K     |█████████████████████████████▍  | 1.5MB 24.9MB/s eta 0:00:01\r\u001b[K     |█████████████████████████████▋  | 1.5MB 24.9MB/s eta 0:00:01\r\u001b[K     |█████████████████████████████▉  | 1.5MB 24.9MB/s eta 0:00:01\r\u001b[K     |██████████████████████████████  | 1.5MB 24.9MB/s eta 0:00:01\r\u001b[K     |██████████████████████████████▎ | 1.5MB 24.9MB/s eta 0:00:01\r\u001b[K     |██████████████████████████████▌ | 1.5MB 24.9MB/s eta 0:00:01\r\u001b[K     |██████████████████████████████▋ | 1.5MB 24.9MB/s eta 0:00:01\r\u001b[K     |██████████████████████████████▉ | 1.6MB 24.9MB/s eta 0:00:01\r\u001b[K     |███████████████████████████████ | 1.6MB 24.9MB/s eta 0:00:01\r\u001b[K     |███████████████████████████████▎| 1.6MB 24.9MB/s eta 0:00:01\r\u001b[K     |███████████████████████████████▌| 1.6MB 24.9MB/s eta 0:00:01\r\u001b[K     |███████████████████████████████▊| 1.6MB 24.9MB/s eta 0:00:01\r\u001b[K     |███████████████████████████████▉| 1.6MB 24.9MB/s eta 0:00:01\r\u001b[K     |████████████████████████████████| 1.6MB 24.9MB/s \n",
            "\u001b[?25hRequirement already satisfied: wheel>=0.23.0 in /usr/local/lib/python3.7/dist-packages (from pyLDAvis==2.1.2) (0.36.2)\n",
            "Requirement already satisfied: numpy>=1.9.2 in /usr/local/lib/python3.7/dist-packages (from pyLDAvis==2.1.2) (1.19.5)\n",
            "Requirement already satisfied: scipy>=0.18.0 in /usr/local/lib/python3.7/dist-packages (from pyLDAvis==2.1.2) (1.4.1)\n",
            "Requirement already satisfied: pandas>=0.17.0 in /usr/local/lib/python3.7/dist-packages (from pyLDAvis==2.1.2) (1.1.5)\n",
            "Requirement already satisfied: joblib>=0.8.4 in /usr/local/lib/python3.7/dist-packages (from pyLDAvis==2.1.2) (1.0.1)\n",
            "Requirement already satisfied: jinja2>=2.7.2 in /usr/local/lib/python3.7/dist-packages (from pyLDAvis==2.1.2) (2.11.3)\n",
            "Requirement already satisfied: numexpr in /usr/local/lib/python3.7/dist-packages (from pyLDAvis==2.1.2) (2.7.3)\n",
            "Requirement already satisfied: pytest in /usr/local/lib/python3.7/dist-packages (from pyLDAvis==2.1.2) (3.6.4)\n",
            "Requirement already satisfied: future in /usr/local/lib/python3.7/dist-packages (from pyLDAvis==2.1.2) (0.16.0)\n",
            "Collecting funcy\n",
            "  Downloading https://files.pythonhosted.org/packages/44/52/5cf7401456a461e4b481650dfb8279bc000f31a011d0918904f86e755947/funcy-1.16-py2.py3-none-any.whl\n",
            "Requirement already satisfied: python-dateutil>=2.7.3 in /usr/local/lib/python3.7/dist-packages (from pandas>=0.17.0->pyLDAvis==2.1.2) (2.8.1)\n",
            "Requirement already satisfied: pytz>=2017.2 in /usr/local/lib/python3.7/dist-packages (from pandas>=0.17.0->pyLDAvis==2.1.2) (2018.9)\n",
            "Requirement already satisfied: MarkupSafe>=0.23 in /usr/local/lib/python3.7/dist-packages (from jinja2>=2.7.2->pyLDAvis==2.1.2) (2.0.1)\n",
            "Requirement already satisfied: atomicwrites>=1.0 in /usr/local/lib/python3.7/dist-packages (from pytest->pyLDAvis==2.1.2) (1.4.0)\n",
            "Requirement already satisfied: attrs>=17.4.0 in /usr/local/lib/python3.7/dist-packages (from pytest->pyLDAvis==2.1.2) (21.2.0)\n",
            "Requirement already satisfied: pluggy<0.8,>=0.5 in /usr/local/lib/python3.7/dist-packages (from pytest->pyLDAvis==2.1.2) (0.7.1)\n",
            "Requirement already satisfied: more-itertools>=4.0.0 in /usr/local/lib/python3.7/dist-packages (from pytest->pyLDAvis==2.1.2) (8.8.0)\n",
            "Requirement already satisfied: py>=1.5.0 in /usr/local/lib/python3.7/dist-packages (from pytest->pyLDAvis==2.1.2) (1.10.0)\n",
            "Requirement already satisfied: setuptools in /usr/local/lib/python3.7/dist-packages (from pytest->pyLDAvis==2.1.2) (57.0.0)\n",
            "Requirement already satisfied: six>=1.10.0 in /usr/local/lib/python3.7/dist-packages (from pytest->pyLDAvis==2.1.2) (1.15.0)\n",
            "Building wheels for collected packages: pyLDAvis\n",
            "  Building wheel for pyLDAvis (setup.py) ... \u001b[?25l\u001b[?25hdone\n",
            "  Created wheel for pyLDAvis: filename=pyLDAvis-2.1.2-py2.py3-none-any.whl size=97738 sha256=e712cfa9fc3b190956e466911750554db51c7d4c43d0f4b089cf41d4c058498f\n",
            "  Stored in directory: /root/.cache/pip/wheels/98/71/24/513a99e58bb6b8465bae4d2d5e9dba8f0bef8179e3051ac414\n",
            "Successfully built pyLDAvis\n",
            "Installing collected packages: funcy, pyLDAvis\n",
            "Successfully installed funcy-1.16 pyLDAvis-2.1.2\n"
          ],
          "name": "stdout"
        }
      ]
    },
    {
      "cell_type": "code",
      "metadata": {
        "id": "nrFRQ3tlN2Xw"
      },
      "source": [
        "#@title Install gspread, authenticate and load data from a Google Sheet\n",
        "!pip install --upgrade -q gspread\n",
        "\n",
        "from google.colab import auth\n",
        "auth.authenticate_user()\n",
        "\n",
        "import gspread\n",
        "from oauth2client.client import GoogleCredentials\n",
        "\n",
        "# Default data from\n",
        "# http://web.eecs.utk.edu/~berry/order/node4.html#SECTION00022000000000000000\n",
        "\n",
        "googlesheet_filename = 'mydata' #@param {type:\"string\"}\n",
        "data_rows_to_preview = 10 #@param {type:\"integer\"}\n"
      ],
      "execution_count": 2,
      "outputs": []
    },
    {
      "cell_type": "code",
      "metadata": {
        "id": "80FDsXYg4Gpd",
        "colab": {
          "base_uri": "https://localhost:8080/",
          "height": 359
        },
        "outputId": "e756e030-b629-4d9d-ad34-bd33a2fe82d7"
      },
      "source": [
        "#@title Load and preview data from a Google Sheet\n",
        "\n",
        "gc = gspread.authorize(GoogleCredentials.get_application_default())\n",
        "\n",
        "worksheet = gc.open(googlesheet_filename).sheet1\n",
        "\n",
        "# get_all_values gives a list of rows.\n",
        "rows = worksheet.get_all_values()\n",
        "\n",
        "# convert the 2nd column values to a list\n",
        "documents = []\n",
        "for row in rows[1:]:\n",
        "  documents.append(row[1])\n",
        "  \n",
        "#print(documents)\n",
        "\n",
        "# Convert to a DataFrame and render.\n",
        "import pandas as pd\n",
        "dataset_df = pd.DataFrame.from_records(rows)\n",
        "dataset_df.head(n=data_rows_to_preview)\n"
      ],
      "execution_count": 3,
      "outputs": [
        {
          "output_type": "execute_result",
          "data": {
            "text/html": [
              "<div>\n",
              "<style scoped>\n",
              "    .dataframe tbody tr th:only-of-type {\n",
              "        vertical-align: middle;\n",
              "    }\n",
              "\n",
              "    .dataframe tbody tr th {\n",
              "        vertical-align: top;\n",
              "    }\n",
              "\n",
              "    .dataframe thead th {\n",
              "        text-align: right;\n",
              "    }\n",
              "</style>\n",
              "<table border=\"1\" class=\"dataframe\">\n",
              "  <thead>\n",
              "    <tr style=\"text-align: right;\">\n",
              "      <th></th>\n",
              "      <th>0</th>\n",
              "      <th>1</th>\n",
              "    </tr>\n",
              "  </thead>\n",
              "  <tbody>\n",
              "    <tr>\n",
              "      <th>0</th>\n",
              "      <td>id</td>\n",
              "      <td>text</td>\n",
              "    </tr>\n",
              "    <tr>\n",
              "      <th>1</th>\n",
              "      <td>1</td>\n",
              "      <td>Human machine interface for Lab ABC computer a...</td>\n",
              "    </tr>\n",
              "    <tr>\n",
              "      <th>2</th>\n",
              "      <td>2</td>\n",
              "      <td>A survey of user opinion of computer system re...</td>\n",
              "    </tr>\n",
              "    <tr>\n",
              "      <th>3</th>\n",
              "      <td>3</td>\n",
              "      <td>The EPS user interface management system</td>\n",
              "    </tr>\n",
              "    <tr>\n",
              "      <th>4</th>\n",
              "      <td>4</td>\n",
              "      <td>System and human system engineering testing of...</td>\n",
              "    </tr>\n",
              "    <tr>\n",
              "      <th>5</th>\n",
              "      <td>5</td>\n",
              "      <td>Relation of user-perceived response time to er...</td>\n",
              "    </tr>\n",
              "    <tr>\n",
              "      <th>6</th>\n",
              "      <td>6</td>\n",
              "      <td>The generation of random, binary, unordered trees</td>\n",
              "    </tr>\n",
              "    <tr>\n",
              "      <th>7</th>\n",
              "      <td>7</td>\n",
              "      <td>The intersection graph of paths in trees</td>\n",
              "    </tr>\n",
              "    <tr>\n",
              "      <th>8</th>\n",
              "      <td>8</td>\n",
              "      <td>Graph minors IV: Widths of trees and quasi-ord...</td>\n",
              "    </tr>\n",
              "    <tr>\n",
              "      <th>9</th>\n",
              "      <td>9</td>\n",
              "      <td>Graph minors: A survey</td>\n",
              "    </tr>\n",
              "  </tbody>\n",
              "</table>\n",
              "</div>"
            ],
            "text/plain": [
              "    0                                                  1\n",
              "0  id                                               text\n",
              "1   1  Human machine interface for Lab ABC computer a...\n",
              "2   2  A survey of user opinion of computer system re...\n",
              "3   3           The EPS user interface management system\n",
              "4   4  System and human system engineering testing of...\n",
              "5   5  Relation of user-perceived response time to er...\n",
              "6   6  The generation of random, binary, unordered trees\n",
              "7   7           The intersection graph of paths in trees\n",
              "8   8  Graph minors IV: Widths of trees and quasi-ord...\n",
              "9   9                             Graph minors: A survey"
            ]
          },
          "metadata": {
            "tags": []
          },
          "execution_count": 3
        }
      ]
    },
    {
      "cell_type": "markdown",
      "metadata": {
        "id": "NdEbsHFSxiQE"
      },
      "source": [
        "\n",
        "\n",
        "---\n",
        "\n",
        "\n",
        "\n",
        "---\n",
        "\n"
      ]
    },
    {
      "cell_type": "code",
      "metadata": {
        "id": "W8aR4hci9D8e"
      },
      "source": [
        "#@title Set topic modeling algorithm arguments\n",
        "\n",
        "no_topics = 3 #@param {type:\"integer\"}\n",
        "\n",
        "no_top_words = 4 #@param {type:\"integer\"}\n",
        "\n",
        "no_top_documents = 3 #@param {type:\"integer\"}\n",
        "\n",
        "from sklearn.feature_extraction.text import TfidfVectorizer, CountVectorizer\n",
        "from sklearn.decomposition import NMF, LatentDirichletAllocation\n",
        "import numpy as np"
      ],
      "execution_count": 4,
      "outputs": []
    },
    {
      "cell_type": "code",
      "metadata": {
        "id": "1-iV64YMqATQ",
        "colab": {
          "base_uri": "https://localhost:8080/"
        },
        "outputId": "6588cd37-7e81-44d9-b953-17d7fa5089dc"
      },
      "source": [
        "#@title Run NMF\n",
        "\n",
        "def display_topics(H, W, feature_names, documents, no_top_words, no_top_documents):\n",
        "    for topic_idx, topic in enumerate(H):\n",
        "        print(\"Topic %d:\" % (topic_idx))\n",
        "        print(\" \".join([ (feature_names[i] + \" (\" + str(topic[i].round(2)) + \")\")\n",
        "          for i in topic.argsort()[:-no_top_words - 1:-1]]))\n",
        "        top_doc_indices = np.argsort( W[:,topic_idx] )[::-1][0:no_top_documents]\n",
        "        for doc_index in top_doc_indices:\n",
        "            print(str(doc_index) + \". \" + documents[doc_index])\n",
        "\n",
        "# NMF is able to use tf-idf\n",
        "tfidf_vectorizer = TfidfVectorizer(max_df=0.95, min_df=2, stop_words='english')\n",
        "tfidf = tfidf_vectorizer.fit_transform(documents)\n",
        "tfidf_feature_names = tfidf_vectorizer.get_feature_names()\n",
        "\n",
        "# Run NMF\n",
        "nmf_model = NMF(n_components=no_topics, random_state=1, alpha=.1, l1_ratio=.5, init='nndsvd').fit(tfidf)\n",
        "nmf_W = nmf_model.transform(tfidf)\n",
        "nmf_H = nmf_model.components_\n",
        "\n",
        "print(\"NMF Topics\")\n",
        "display_topics(nmf_H, nmf_W, tfidf_feature_names, documents, no_top_words, no_top_documents)\n",
        "print(\"--------------\")\n",
        "\n"
      ],
      "execution_count": 5,
      "outputs": [
        {
          "output_type": "stream",
          "text": [
            "NMF Topics\n",
            "Topic 0:\n",
            "trees (0.93) graph (0.7) minors (0.43) survey (0.13)\n",
            "7. Graph minors IV: Widths of trees and quasi-ordering\n",
            "6. The intersection graph of paths in trees\n",
            "5. The generation of random, binary, unordered trees\n",
            "Topic 1:\n",
            "time (0.58) response (0.58) user (0.54) survey (0.26)\n",
            "4. Relation of user-perceived response time to error measurement\n",
            "1. A survey of user opinion of computer system response time\n",
            "2. The EPS user interface management system\n",
            "Topic 2:\n",
            "human (0.62) eps (0.62) interface (0.51) computer (0.23)\n",
            "3. System and human system engineering testing of EPS\n",
            "0. Human machine interface for Lab ABC computer applications\n",
            "2. The EPS user interface management system\n",
            "--------------\n"
          ],
          "name": "stdout"
        }
      ]
    },
    {
      "cell_type": "code",
      "metadata": {
        "colab": {
          "base_uri": "https://localhost:8080/",
          "height": 1000
        },
        "cellView": "code",
        "id": "GEPTgBbWxMtk",
        "outputId": "e9b8bca0-6543-44b0-9cbf-39b5789e98b9"
      },
      "source": [
        "#@title Visualise NMF with pyLDAVis\n",
        "\n",
        "import pyLDAvis.sklearn\n",
        "\n",
        "pyLDAvis.enable_notebook()\n",
        "\n",
        "pyLDAvis_data = pyLDAvis.sklearn.prepare(nmf_model, tfidf, tfidf_vectorizer)\n",
        "# Visualization can be displayed in the notebook\n",
        "pyLDAvis.display(pyLDAvis_data)"
      ],
      "execution_count": 6,
      "outputs": [
        {
          "output_type": "stream",
          "text": [
            "/usr/local/lib/python3.7/dist-packages/past/types/oldstr.py:5: DeprecationWarning: Using or importing the ABCs from 'collections' instead of from 'collections.abc' is deprecated since Python 3.3,and in 3.9 it will stop working\n",
            "  from collections import Iterable\n",
            "/usr/local/lib/python3.7/dist-packages/past/builtins/misc.py:4: DeprecationWarning: Using or importing the ABCs from 'collections' instead of from 'collections.abc' is deprecated since Python 3.3,and in 3.9 it will stop working\n",
            "  from collections import Mapping\n",
            "/usr/local/lib/python3.7/dist-packages/pyLDAvis/_prepare.py:223: RuntimeWarning: divide by zero encountered in log\n",
            "  kernel = (topic_given_term * np.log((topic_given_term.T / topic_proportion).T))\n",
            "/usr/local/lib/python3.7/dist-packages/pyLDAvis/_prepare.py:240: RuntimeWarning: divide by zero encountered in log\n",
            "  log_lift = np.log(topic_term_dists / term_proportion)\n",
            "/usr/local/lib/python3.7/dist-packages/pyLDAvis/_prepare.py:241: RuntimeWarning: divide by zero encountered in log\n",
            "  log_ttd = np.log(topic_term_dists)\n"
          ],
          "name": "stderr"
        },
        {
          "output_type": "execute_result",
          "data": {
            "text/html": [
              "\n",
              "<link rel=\"stylesheet\" type=\"text/css\" href=\"https://cdn.rawgit.com/bmabey/pyLDAvis/files/ldavis.v1.0.0.css\">\n",
              "\n",
              "\n",
              "<div id=\"ldavis_el611397063561283362182363310\"></div>\n",
              "<script type=\"text/javascript\">\n",
              "\n",
              "var ldavis_el611397063561283362182363310_data = {\"mdsDat\": {\"x\": [0.4028261930794666, -0.2688697535528149, -0.13395643952665162], \"y\": [-0.05744304693965055, -0.22854994100287815, 0.28599298794252864], \"topics\": [1, 2, 3], \"cluster\": [1, 1, 1], \"Freq\": [37.91357595385262, 31.200393044350832, 30.88603100179655]}, \"tinfo\": {\"Term\": [\"trees\", \"graph\", \"human\", \"eps\", \"response\", \"time\", \"interface\", \"minors\", \"user\", \"computer\", \"survey\", \"trees\", \"minors\", \"graph\", \"survey\", \"computer\", \"eps\", \"human\", \"interface\", \"response\", \"time\", \"user\", \"interface\", \"human\", \"eps\", \"computer\", \"user\", \"graph\", \"minors\", \"response\", \"survey\", \"time\", \"trees\", \"time\", \"response\", \"user\", \"survey\", \"computer\", \"eps\", \"graph\", \"human\", \"interface\", \"minors\", \"trees\"], \"Freq\": [2.0, 1.0, 1.0, 1.0, 1.0, 1.0, 1.0, 1.0, 1.0, 0.0, 0.0, 2.3701058629822382, 1.0979364529033724, 1.7867254095896055, 0.32114528419659505, 0.0, 0.0, 0.0, 0.0, 0.0, 0.0, 0.0, 1.0993396231173889, 1.3210949443558744, 1.31894029575767, 0.4866255495326489, 0.3626112680396754, 0.0, 0.0, 0.0, 0.0, 0.0, 0.0, 1.2129897260287499, 1.2129897260287499, 1.1246807780701193, 0.543954531662098, 0.447763996934153, 0.0, 0.0, 0.0, 0.0, 0.0, 0.0], \"Total\": [2.0, 1.0, 1.0, 1.0, 1.0, 1.0, 1.0, 1.0, 1.0, 0.0, 0.0, 2.3701058629822382, 1.0979364529033724, 1.7867254095896055, 0.865099815858693, 0.934389546466802, 1.31894029575767, 1.3210949443558744, 1.0993396231173889, 1.2129897260287499, 1.2129897260287499, 1.4872920461097947, 1.0993396231173889, 1.3210949443558744, 1.31894029575767, 0.934389546466802, 1.4872920461097947, 1.7867254095896055, 1.0979364529033724, 1.2129897260287499, 0.865099815858693, 1.2129897260287499, 2.3701058629822382, 1.2129897260287499, 1.2129897260287499, 1.4872920461097947, 0.865099815858693, 0.934389546466802, 1.31894029575767, 1.7867254095896055, 1.3210949443558744, 1.0993396231173889, 1.0979364529033724, 2.3701058629822382], \"Category\": [\"Default\", \"Default\", \"Default\", \"Default\", \"Default\", \"Default\", \"Default\", \"Default\", \"Default\", \"Default\", \"Default\", \"Topic1\", \"Topic1\", \"Topic1\", \"Topic1\", \"Topic1\", \"Topic1\", \"Topic1\", \"Topic1\", \"Topic1\", \"Topic1\", \"Topic1\", \"Topic2\", \"Topic2\", \"Topic2\", \"Topic2\", \"Topic2\", \"Topic2\", \"Topic2\", \"Topic2\", \"Topic2\", \"Topic2\", \"Topic2\", \"Topic3\", \"Topic3\", \"Topic3\", \"Topic3\", \"Topic3\", \"Topic3\", \"Topic3\", \"Topic3\", \"Topic3\", \"Topic3\", \"Topic3\"], \"logprob\": [11.0, 10.0, 9.0, 8.0, 7.0, 6.0, 5.0, 4.0, 3.0, 2.0, 1.0, -0.8555, -1.625, -1.1381, -2.8543, -Infinity, -Infinity, -Infinity, -Infinity, -Infinity, -Infinity, -Infinity, -1.4289, -1.2451, -1.2467, -2.2438, -2.538, -Infinity, -Infinity, -Infinity, -Infinity, -Infinity, -Infinity, -1.3204, -1.3204, -1.396, -2.1223, -2.3169, -Infinity, -Infinity, -Infinity, -Infinity, -Infinity, -Infinity], \"loglift\": [11.0, 10.0, 9.0, 8.0, 7.0, 6.0, 5.0, 4.0, 3.0, 2.0, 1.0, 0.9699, 0.9699, 0.9699, -0.0211, -Infinity, -Infinity, -Infinity, -Infinity, -Infinity, -Infinity, -Infinity, 1.1647, 1.1647, 1.1647, 0.5123, -0.2466, -Infinity, -Infinity, -Infinity, -Infinity, -Infinity, -Infinity, 1.1749, 1.1749, 0.8954, 0.7109, 0.4392, -Infinity, -Infinity, -Infinity, -Infinity, -Infinity, -Infinity]}, \"token.table\": {\"Topic\": [2, 1, 2, 2, 1, 3, 3, 3, 1, 3], \"Freq\": [0.7581844327726347, 1.119366181991771, 0.7569478668223725, 0.9096370029530162, 0.9107995251962077, 0.8244092909788573, 1.1559359760207624, 0.8244092909788573, 0.8438441637722696, 0.6723629045254628], \"Term\": [\"eps\", \"graph\", \"human\", \"interface\", \"minors\", \"response\", \"survey\", \"time\", \"trees\", \"user\"]}, \"R\": 11, \"lambda.step\": 0.01, \"plot.opts\": {\"xlab\": \"PC1\", \"ylab\": \"PC2\"}, \"topic.order\": [1, 3, 2]};\n",
              "\n",
              "function LDAvis_load_lib(url, callback){\n",
              "  var s = document.createElement('script');\n",
              "  s.src = url;\n",
              "  s.async = true;\n",
              "  s.onreadystatechange = s.onload = callback;\n",
              "  s.onerror = function(){console.warn(\"failed to load library \" + url);};\n",
              "  document.getElementsByTagName(\"head\")[0].appendChild(s);\n",
              "}\n",
              "\n",
              "if(typeof(LDAvis) !== \"undefined\"){\n",
              "   // already loaded: just create the visualization\n",
              "   !function(LDAvis){\n",
              "       new LDAvis(\"#\" + \"ldavis_el611397063561283362182363310\", ldavis_el611397063561283362182363310_data);\n",
              "   }(LDAvis);\n",
              "}else if(typeof define === \"function\" && define.amd){\n",
              "   // require.js is available: use it to load d3/LDAvis\n",
              "   require.config({paths: {d3: \"https://cdnjs.cloudflare.com/ajax/libs/d3/3.5.5/d3.min\"}});\n",
              "   require([\"d3\"], function(d3){\n",
              "      window.d3 = d3;\n",
              "      LDAvis_load_lib(\"https://cdn.rawgit.com/bmabey/pyLDAvis/files/ldavis.v1.0.0.js\", function(){\n",
              "        new LDAvis(\"#\" + \"ldavis_el611397063561283362182363310\", ldavis_el611397063561283362182363310_data);\n",
              "      });\n",
              "    });\n",
              "}else{\n",
              "    // require.js not available: dynamically load d3 & LDAvis\n",
              "    LDAvis_load_lib(\"https://cdnjs.cloudflare.com/ajax/libs/d3/3.5.5/d3.min.js\", function(){\n",
              "         LDAvis_load_lib(\"https://cdn.rawgit.com/bmabey/pyLDAvis/files/ldavis.v1.0.0.js\", function(){\n",
              "                 new LDAvis(\"#\" + \"ldavis_el611397063561283362182363310\", ldavis_el611397063561283362182363310_data);\n",
              "            })\n",
              "         });\n",
              "}\n",
              "</script>"
            ],
            "text/plain": [
              "<IPython.core.display.HTML object>"
            ]
          },
          "metadata": {
            "tags": []
          },
          "execution_count": 6
        }
      ]
    },
    {
      "cell_type": "code",
      "metadata": {
        "id": "onfGom6U9oSq",
        "colab": {
          "base_uri": "https://localhost:8080/"
        },
        "outputId": "ca37f2ae-0627-4dc7-80d6-e37fe739303a"
      },
      "source": [
        "#@title Run LDA\n",
        "\n",
        "# LDA can only use raw term counts for LDA because it is a probabilistic graphical model\n",
        "tf_vectorizer = CountVectorizer(max_df=0.95, min_df=2, stop_words='english')\n",
        "tf = tf_vectorizer.fit_transform(documents)\n",
        "tf_feature_names = tf_vectorizer.get_feature_names()\n",
        "\n",
        "# Run LDA\n",
        "lda_model = LatentDirichletAllocation(n_components=no_topics, max_iter=5, learning_method='online', learning_offset=50.,random_state=0).fit(tf)\n",
        "lda_W = lda_model.transform(tf)\n",
        "lda_H = lda_model.components_\n",
        "\n",
        "print(\"LDA Topics\")\n",
        "display_topics(lda_H, lda_W, tf_feature_names, documents, no_top_words, no_top_documents)"
      ],
      "execution_count": 8,
      "outputs": [
        {
          "output_type": "stream",
          "text": [
            "LDA Topics\n",
            "Topic 0:\n",
            "user (1.73) response (1.4) time (1.38) survey (1.35)\n",
            "1. A survey of user opinion of computer system response time\n",
            "4. Relation of user-perceived response time to error measurement\n",
            "2. The EPS user interface management system\n",
            "Topic 1:\n",
            "trees (1.67) human (1.52) graph (1.39) minors (1.21)\n",
            "7. Graph minors IV: Widths of trees and quasi-ordering\n",
            "0. Human machine interface for Lab ABC computer applications\n",
            "6. The intersection graph of paths in trees\n",
            "Topic 2:\n",
            "trees (0.88) survey (0.86) time (0.82) minors (0.81)\n",
            "5. The generation of random, binary, unordered trees\n",
            "3. System and human system engineering testing of EPS\n",
            "6. The intersection graph of paths in trees\n"
          ],
          "name": "stdout"
        }
      ]
    },
    {
      "cell_type": "code",
      "metadata": {
        "colab": {
          "base_uri": "https://localhost:8080/",
          "height": 861
        },
        "id": "BfhjlOFfyAyY",
        "outputId": "56d93010-cf6f-4b60-f798-1208be888ee0"
      },
      "source": [
        "#@title Visualise LDA with pyLDAVis\n",
        "\n",
        "import pyLDAvis.sklearn\n",
        "\n",
        "pyLDAvis.enable_notebook()\n",
        "\n",
        "pyLDAvis_data = pyLDAvis.sklearn.prepare(lda_model, tf, tf_vectorizer)\n",
        "# Visualization can be displayed in the notebook\n",
        "pyLDAvis.display(pyLDAvis_data)"
      ],
      "execution_count": 9,
      "outputs": [
        {
          "output_type": "execute_result",
          "data": {
            "text/html": [
              "\n",
              "<link rel=\"stylesheet\" type=\"text/css\" href=\"https://cdn.rawgit.com/bmabey/pyLDAvis/files/ldavis.v1.0.0.css\">\n",
              "\n",
              "\n",
              "<div id=\"ldavis_el611397063473344808341864878\"></div>\n",
              "<script type=\"text/javascript\">\n",
              "\n",
              "var ldavis_el611397063473344808341864878_data = {\"mdsDat\": {\"x\": [-0.012435766319882899, 0.012744479080538903, -0.00030871276065599706], \"y\": [0.0, 0.0, 0.0], \"topics\": [1, 2, 3], \"cluster\": [1, 1, 1], \"Freq\": [51.62567831241728, 38.64503268075213, 9.72928900683059]}, \"tinfo\": {\"Term\": [\"trees\", \"human\", \"survey\", \"time\", \"minors\", \"graph\", \"eps\", \"interface\", \"response\", \"computer\", \"user\", \"user\", \"time\", \"survey\", \"response\", \"eps\", \"computer\", \"interface\", \"minors\", \"graph\", \"trees\", \"human\", \"human\", \"trees\", \"graph\", \"minors\", \"interface\", \"computer\", \"eps\", \"response\", \"survey\", \"user\", \"time\", \"survey\", \"time\", \"human\", \"eps\", \"trees\", \"minors\", \"interface\", \"computer\", \"response\", \"graph\", \"user\"], \"Freq\": [2.0, 2.0, 2.0, 2.0, 2.0, 2.0, 2.0, 2.0, 2.0, 2.0, 2.0, 1.681460813446099, 1.3439282112642212, 1.3150077539304146, 1.3649461489891477, 1.1000867663012028, 1.1963470114510093, 1.0511480605769417, 1.075368489978517, 1.2013147237958308, 0.839702251936721, 0.7371093464342122, 1.219278540749077, 1.346026804490912, 1.118366033342206, 0.9702974405123334, 0.7864253929382925, 0.8528255328270381, 0.7131738943618636, 0.7527644802297481, 0.6121352862117554, 0.7382269674700329, 0.5517377970547739, 0.2388696442974038, 0.22964144610625198, 0.22247977354702286, 0.20591838745755783, 0.2455582174223996, 0.22704920344227125, 0.20005504925640527, 0.20959365719580633, 0.2121613176591923, 0.22289548409981177, 0.2181000712235247], \"Total\": [2.0, 2.0, 2.0, 2.0, 2.0, 2.0, 2.0, 2.0, 2.0, 2.0, 2.0, 2.6377878521396565, 2.125307454425247, 2.1660126844395737, 2.329871946878088, 2.019179048120624, 2.2587662014738537, 2.037628502771639, 2.2727151339331213, 2.5425762412378483, 2.4312872738500326, 2.178867660730312, 2.178867660730312, 2.4312872738500326, 2.5425762412378483, 2.2727151339331213, 2.037628502771639, 2.2587662014738537, 2.019179048120624, 2.329871946878088, 2.1660126844395737, 2.6377878521396565, 2.125307454425247, 2.1660126844395737, 2.125307454425247, 2.178867660730312, 2.019179048120624, 2.4312872738500326, 2.2727151339331213, 2.037628502771639, 2.2587662014738537, 2.329871946878088, 2.5425762412378483, 2.6377878521396565], \"Category\": [\"Default\", \"Default\", \"Default\", \"Default\", \"Default\", \"Default\", \"Default\", \"Default\", \"Default\", \"Default\", \"Default\", \"Topic1\", \"Topic1\", \"Topic1\", \"Topic1\", \"Topic1\", \"Topic1\", \"Topic1\", \"Topic1\", \"Topic1\", \"Topic1\", \"Topic1\", \"Topic2\", \"Topic2\", \"Topic2\", \"Topic2\", \"Topic2\", \"Topic2\", \"Topic2\", \"Topic2\", \"Topic2\", \"Topic2\", \"Topic2\", \"Topic3\", \"Topic3\", \"Topic3\", \"Topic3\", \"Topic3\", \"Topic3\", \"Topic3\", \"Topic3\", \"Topic3\", \"Topic3\", \"Topic3\"], \"logprob\": [11.0, 10.0, 9.0, 8.0, 7.0, 6.0, 5.0, 4.0, 3.0, 2.0, 1.0, -2.0381, -2.2621, -2.2839, -2.2466, -2.4623, -2.3785, -2.5078, -2.4851, -2.3743, -2.7324, -2.8627, -2.0699, -1.971, -2.1563, -2.2983, -2.5084, -2.4273, -2.6062, -2.5521, -2.7589, -2.5716, -2.8628, -2.3207, -2.3601, -2.3918, -2.4691, -2.2931, -2.3714, -2.498, -2.4514, -2.4393, -2.3899, -2.4116], \"loglift\": [11.0, 10.0, 9.0, 8.0, 7.0, 6.0, 5.0, 4.0, 3.0, 2.0, 1.0, 0.2109, 0.2028, 0.1621, 0.1265, 0.0538, 0.0256, -0.0008, -0.0872, -0.0886, -0.402, -0.4227, 0.3702, 0.3595, 0.1294, 0.0996, -0.0013, -0.0233, -0.09, -0.1791, -0.3129, -0.3227, -0.3978, 0.1253, 0.1049, 0.0483, 0.0471, 0.0374, 0.0265, 0.0091, -0.0474, -0.0662, -0.1042, -0.1627]}, \"token.table\": {\"Topic\": [1, 2, 1, 2, 1, 2, 1, 2, 1, 2, 1, 2, 1, 2, 1, 2, 1, 2, 1, 2, 1, 2], \"Freq\": [0.442719569359368, 0.442719569359368, 0.49525078072237444, 0.49525078072237444, 0.39330187381643744, 0.39330187381643744, 0.45895398698277085, 0.45895398698277085, 0.4907665939300378, 0.4907665939300378, 0.4400023500830997, 0.4400023500830997, 0.42920813795794654, 0.42920813795794654, 0.4616778134236718, 0.4616778134236718, 0.47052015835065747, 0.47052015835065747, 0.41130474821120716, 0.41130474821120716, 0.7582110890296536, 0.3791055445148268], \"Term\": [\"computer\", \"computer\", \"eps\", \"eps\", \"graph\", \"graph\", \"human\", \"human\", \"interface\", \"interface\", \"minors\", \"minors\", \"response\", \"response\", \"survey\", \"survey\", \"time\", \"time\", \"trees\", \"trees\", \"user\", \"user\"]}, \"R\": 11, \"lambda.step\": 0.01, \"plot.opts\": {\"xlab\": \"PC1\", \"ylab\": \"PC2\"}, \"topic.order\": [1, 2, 3]};\n",
              "\n",
              "function LDAvis_load_lib(url, callback){\n",
              "  var s = document.createElement('script');\n",
              "  s.src = url;\n",
              "  s.async = true;\n",
              "  s.onreadystatechange = s.onload = callback;\n",
              "  s.onerror = function(){console.warn(\"failed to load library \" + url);};\n",
              "  document.getElementsByTagName(\"head\")[0].appendChild(s);\n",
              "}\n",
              "\n",
              "if(typeof(LDAvis) !== \"undefined\"){\n",
              "   // already loaded: just create the visualization\n",
              "   !function(LDAvis){\n",
              "       new LDAvis(\"#\" + \"ldavis_el611397063473344808341864878\", ldavis_el611397063473344808341864878_data);\n",
              "   }(LDAvis);\n",
              "}else if(typeof define === \"function\" && define.amd){\n",
              "   // require.js is available: use it to load d3/LDAvis\n",
              "   require.config({paths: {d3: \"https://cdnjs.cloudflare.com/ajax/libs/d3/3.5.5/d3.min\"}});\n",
              "   require([\"d3\"], function(d3){\n",
              "      window.d3 = d3;\n",
              "      LDAvis_load_lib(\"https://cdn.rawgit.com/bmabey/pyLDAvis/files/ldavis.v1.0.0.js\", function(){\n",
              "        new LDAvis(\"#\" + \"ldavis_el611397063473344808341864878\", ldavis_el611397063473344808341864878_data);\n",
              "      });\n",
              "    });\n",
              "}else{\n",
              "    // require.js not available: dynamically load d3 & LDAvis\n",
              "    LDAvis_load_lib(\"https://cdnjs.cloudflare.com/ajax/libs/d3/3.5.5/d3.min.js\", function(){\n",
              "         LDAvis_load_lib(\"https://cdn.rawgit.com/bmabey/pyLDAvis/files/ldavis.v1.0.0.js\", function(){\n",
              "                 new LDAvis(\"#\" + \"ldavis_el611397063473344808341864878\", ldavis_el611397063473344808341864878_data);\n",
              "            })\n",
              "         });\n",
              "}\n",
              "</script>"
            ],
            "text/plain": [
              "<IPython.core.display.HTML object>"
            ]
          },
          "metadata": {
            "tags": []
          },
          "execution_count": 9
        }
      ]
    }
  ]
}